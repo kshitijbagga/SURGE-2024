{
 "cells": [
  {
   "cell_type": "code",
   "execution_count": 1,
   "id": "6df54e02-7f9a-470a-b0db-667e2ca1361b",
   "metadata": {},
   "outputs": [],
   "source": [
    "#Post Processing "
   ]
  },
  {
   "cell_type": "code",
   "execution_count": 1,
   "id": "91bfddc7-076a-44fd-a419-de164671e671",
   "metadata": {},
   "outputs": [],
   "source": [
    "import damask\n",
    "import numpy as np\n",
    "import pandas as pd\n",
    "import matplotlib.pyplot as plt\n",
    "import h5py    \n",
    "from numpy import newaxis"
   ]
  },
  {
   "cell_type": "code",
   "execution_count": 2,
   "id": "c024eabc-e3d5-4d54-b49f-63c3cec8f12d",
   "metadata": {},
   "outputs": [],
   "source": [
    "result = damask.Result('geom_tension-load.hdf5')"
   ]
  },
  {
   "cell_type": "code",
   "execution_count": 3,
   "id": "e05ca5e0-0e1d-4739-92d7-ba735a48981d",
   "metadata": {},
   "outputs": [
    {
     "name": "stderr",
     "output_type": "stream",
     "text": [
      " ██████████████████████████████████████████████████ 100% ETA 0:00:00\n"
     ]
    }
   ],
   "source": [
    "result.add_strain()"
   ]
  },
  {
   "cell_type": "code",
   "execution_count": 4,
   "id": "2c43776a-71c4-4bd1-bd03-797b5297d450",
   "metadata": {},
   "outputs": [
    {
     "name": "stderr",
     "output_type": "stream",
     "text": [
      " ██████████████████████████████████████████████████ 100% ETA 0:00:00\n"
     ]
    }
   ],
   "source": [
    "result.add_stress_Cauchy()"
   ]
  },
  {
   "cell_type": "code",
   "execution_count": 5,
   "id": "2610e758-acec-4e50-8cc2-71d11e9af4dd",
   "metadata": {},
   "outputs": [
    {
     "name": "stderr",
     "output_type": "stream",
     "text": [
      " ██████████████████████████████████████████████████ 100% ETA 0:00:00\n"
     ]
    }
   ],
   "source": [
    "result.add_equivalent_Mises('sigma')"
   ]
  },
  {
   "cell_type": "code",
   "execution_count": 6,
   "id": "a7458954-5bc5-464c-b8b5-d5bc8e10dd56",
   "metadata": {},
   "outputs": [
    {
     "name": "stderr",
     "output_type": "stream",
     "text": [
      " ██████████████████████████████████████████████████ 100% ETA 0:00:00\n"
     ]
    }
   ],
   "source": [
    "result.add_equivalent_Mises('epsilon_V^0.0(F)')"
   ]
  },
  {
   "cell_type": "code",
   "execution_count": 7,
   "id": "23cfa2b2-374a-4335-9ec9-b1fb99d7875e",
   "metadata": {},
   "outputs": [
    {
     "name": "stderr",
     "output_type": "stream",
     "text": [
      " ██████████████████████████████████████████████████ 100% ETA 0:00:00\n"
     ]
    }
   ],
   "source": [
    "result.add_IPF_color(np.array([0,0,1]))"
   ]
  },
  {
   "cell_type": "code",
   "execution_count": 8,
   "id": "cc92fca2-910a-42a1-9d96-5055fef8019c",
   "metadata": {},
   "outputs": [
    {
     "data": {
      "text/plain": [
       "\u001b[2mCreated by DAMASK_grid v3.0.0-alpha6\n",
       "        on 2024-07-05 22:44:05+0530\n",
       " executing \"DAMASK_grid -g geom.vti -l tension-load.yaml\"\u001b[0m\n",
       "\n",
       "increment_0 (0.0 s)\n",
       "  phase\n",
       "    Primary\n",
       "      mechanical\n",
       "        F / 1: deformation gradient\n",
       "        F_e / 1: elastic deformation gradient\n",
       "        F_p / 1: plastic deformation gradient\n",
       "        IPFcolor_(0 0 1) / 8-bit RGB: Inverse Pole Figure (IPF) colors along sample direction (0 0 1)\n",
       "        O / q_0 (q_1 q_2 q_3): crystal orientation as quaternion\n",
       "        P / Pa: first Piola-Kirchhoff stress\n",
       "        epsilon_V^0.0(F) / 1: strain tensor of F (deformation gradient)\n",
       "        epsilon_V^0.0(F)_vM / 1: Mises equivalent strain of epsilon_V^0.0(F) (strain tensor of F (deformation gradient))\n",
       "        gamma_sl / 1: plastic shear\n",
       "        sigma / Pa: Cauchy stress calculated from P (first Piola-Kirchhoff stress) and F (deformation gradient)\n",
       "        sigma_vM / Pa: Mises equivalent stress of sigma (Cauchy stress calculated from P (first Piola-Kirchhoff stress) and F (deformation gradient))\n",
       "        xi_sl / Pa: resistance against plastic slip\n",
       "  homogenization\n",
       "    direct\n",
       "      mechanical\n",
       "\n",
       "increment_5\n",
       "  ...\n",
       "\n",
       "increment_10\n",
       "  ...\n",
       "\n",
       "increment_15\n",
       "  ...\n",
       "\n",
       "increment_20\n",
       "  ...\n",
       "\n",
       "increment_25\n",
       "  ...\n",
       "\n",
       "increment_30\n",
       "  ...\n",
       "\n",
       "increment_35\n",
       "  ...\n",
       "\n",
       "increment_40\n",
       "  ...\n",
       "\n",
       "increment_45\n",
       "  ...\n",
       "\n",
       "increment_50\n",
       "  ...\n",
       "\n",
       "increment_55\n",
       "  ...\n",
       "\n",
       "increment_60\n",
       "  ...\n",
       "\n",
       "increment_65\n",
       "  ...\n",
       "\n",
       "increment_70\n",
       "  ...\n",
       "\n",
       "increment_75\n",
       "  ...\n",
       "\n",
       "increment_80\n",
       "  ...\n",
       "\n",
       "increment_85\n",
       "  ...\n",
       "\n",
       "increment_90\n",
       "  ...\n",
       "\n",
       "increment_95\n",
       "  ...\n",
       "\n",
       "increment_100 (200.0 s)\n",
       "  phase\n",
       "    Primary\n",
       "      mechanical\n",
       "        F / 1: deformation gradient\n",
       "        F_e / 1: elastic deformation gradient\n",
       "        F_p / 1: plastic deformation gradient\n",
       "        IPFcolor_(0 0 1) / 8-bit RGB: Inverse Pole Figure (IPF) colors along sample direction (0 0 1)\n",
       "        O / q_0 (q_1 q_2 q_3): crystal orientation as quaternion\n",
       "        P / Pa: first Piola-Kirchhoff stress\n",
       "        epsilon_V^0.0(F) / 1: strain tensor of F (deformation gradient)\n",
       "        epsilon_V^0.0(F)_vM / 1: Mises equivalent strain of epsilon_V^0.0(F) (strain tensor of F (deformation gradient))\n",
       "        gamma_sl / 1: plastic shear\n",
       "        sigma / Pa: Cauchy stress calculated from P (first Piola-Kirchhoff stress) and F (deformation gradient)\n",
       "        sigma_vM / Pa: Mises equivalent stress of sigma (Cauchy stress calculated from P (first Piola-Kirchhoff stress) and F (deformation gradient))\n",
       "        xi_sl / Pa: resistance against plastic slip\n",
       "  homogenization\n",
       "    direct\n",
       "      mechanical"
      ]
     },
     "execution_count": 8,
     "metadata": {},
     "output_type": "execute_result"
    }
   ],
   "source": [
    "result"
   ]
  },
  {
   "cell_type": "code",
   "execution_count": 9,
   "id": "40c2fde5-313f-4222-94c5-d686b6bb9ad3",
   "metadata": {},
   "outputs": [],
   "source": [
    "#for index in range(5,200,5):\n",
    "    #cur_res = res.view(increments = index)\n",
    "    #cur_res.add_stress_Cauchy()\n",
    "    #cur_res.add_strain()\n",
    "    #cur_res.add_equivalent_Mises('sigma')\n",
    "    #cur_res.add_stress_Cauchy('epsilon_V^0.0(F)')\n",
    "    #cur_res"
   ]
  },
  {
   "cell_type": "code",
   "execution_count": 10,
   "id": "9e34df8c-d574-4111-a2cd-d7568cb1716d",
   "metadata": {},
   "outputs": [
    {
     "data": {
      "text/plain": [
       "\u001b[2mCreated by DAMASK_grid v3.0.0-alpha6\n",
       "        on 2024-07-05 22:44:05+0530\n",
       " executing \"DAMASK_grid -g geom.vti -l tension-load.yaml\"\u001b[0m\n",
       "\n",
       "increment_100 (200.0 s)\n",
       "  phase\n",
       "    Primary\n",
       "      mechanical\n",
       "        F / 1: deformation gradient\n",
       "        F_e / 1: elastic deformation gradient\n",
       "        F_p / 1: plastic deformation gradient\n",
       "        IPFcolor_(0 0 1) / 8-bit RGB: Inverse Pole Figure (IPF) colors along sample direction (0 0 1)\n",
       "        O / q_0 (q_1 q_2 q_3): crystal orientation as quaternion\n",
       "        P / Pa: first Piola-Kirchhoff stress\n",
       "        epsilon_V^0.0(F) / 1: strain tensor of F (deformation gradient)\n",
       "        epsilon_V^0.0(F)_vM / 1: Mises equivalent strain of epsilon_V^0.0(F) (strain tensor of F (deformation gradient))\n",
       "        gamma_sl / 1: plastic shear\n",
       "        sigma / Pa: Cauchy stress calculated from P (first Piola-Kirchhoff stress) and F (deformation gradient)\n",
       "        sigma_vM / Pa: Mises equivalent stress of sigma (Cauchy stress calculated from P (first Piola-Kirchhoff stress) and F (deformation gradient))\n",
       "        xi_sl / Pa: resistance against plastic slip\n",
       "  homogenization\n",
       "    direct\n",
       "      mechanical"
      ]
     },
     "execution_count": 10,
     "metadata": {},
     "output_type": "execute_result"
    }
   ],
   "source": [
    "result.view('increments',-1)"
   ]
  },
  {
   "cell_type": "code",
   "execution_count": 11,
   "id": "1ad47ba6-efa6-4971-8020-4b82a6dfb417",
   "metadata": {},
   "outputs": [
    {
     "name": "stderr",
     "output_type": "stream",
     "text": [
      " ██████████████████████████████████████████████████ 100% ETA 0:00:00\n"
     ]
    }
   ],
   "source": [
    "result.export_VTK()"
   ]
  },
  {
   "cell_type": "code",
   "execution_count": 12,
   "id": "801bd1e1-f893-4499-b250-1e1c4779d792",
   "metadata": {},
   "outputs": [
    {
     "name": "stderr",
     "output_type": "stream",
     "text": [
      " ██████████████████████████████████████████████████ 100% ETA 0:00:00\n",
      " ██████████████████████████████████████████████████ 100% ETA 0:00:00\n"
     ]
    },
    {
     "data": {
      "image/png": "[encoded data removed]",
      "text/plain": [
       "<Figure size 432x288 with 1 Axes>"
      ]
     },
     "metadata": {
      "needs_background": "light"
     },
     "output_type": "display_data"
    }
   ],
   "source": [
    "sig_sim=[np.average(s) for s in result.get('sigma_vM').values()]\n",
    "eps_sim=[np.average(e) for e in result.get('epsilon_V^0.0(F)_vM').values()]\n",
    "plt.plot(eps_sim, sig_sim)\n",
    "plt.xlabel('Strain')\n",
    "plt.ylabel('Stress')\n",
    "plt.title('Stress-strain curve')\n",
    "plt.savefig('SS_Curve_F1.05_T10_N40.png')\n"
   ]
  },
  {
   "cell_type": "code",
   "execution_count": 13,
   "id": "93813e69-7186-48ab-a34c-cfc1155421b0",
   "metadata": {},
   "outputs": [],
   "source": [
    "#for index in range(0, 81, 10):\n",
    "    #res =result.view(increments=index)\n",
    "    #gamma_sl = res.get('gamma_sl')\n",
    "    #pd.DataFrame(gamma_sl).to_csv(\"Increment\"+ str(index) +\"gamma_sl.csv\")\n"
   ]
  },
  {
   "cell_type": "code",
   "execution_count": 14,
   "id": "607922f9-3132-4ac7-850e-bd17088f4387",
   "metadata": {},
   "outputs": [],
   "source": [
    "# for last increment\n",
    "for index in range(1,21):\n",
    "    res =result.view(increments=result.increments[index])\n",
    "    O = res.place('O')\n",
    "    euler = damask.Rotation.from_quaternion(O.data).as_Euler_angles(degrees=True)\n",
    "    pd.DataFrame(euler).to_csv(f\"IPF_Final_{index}.csv\")"
   ]
  },
  {
   "cell_type": "code",
   "execution_count": 15,
   "id": "712d19f0-488a-468c-9ff5-c2863b045fe9",
   "metadata": {},
   "outputs": [],
   "source": [
    "res =res.view(increments=res.increments[0])\n",
    "O = res.place('O')\n",
    "euler = damask.Rotation.from_quaternion(O.data).as_Euler_angles(degrees=True)\n",
    "pd.DataFrame(euler).to_csv(\"IPF_Initial.csv\")"
   ]
  },
  {
   "cell_type": "code",
   "execution_count": null,
   "id": "39ac09e9-c20a-4266-af4d-11aad4b85366",
   "metadata": {},
   "outputs": [],
   "source": []
  }
 ],
 "metadata": {
  "kernelspec": {
   "display_name": "Python 3 (ipykernel)",
   "language": "python",
   "name": "python3"
  },
  "language_info": {
   "codemirror_mode": {
    "name": "ipython",
    "version": 3
   },
   "file_extension": ".py",
   "mimetype": "text/x-python",
   "name": "python",
   "nbconvert_exporter": "python",
   "pygments_lexer": "ipython3",
   "version": "3.9.12"
  }
 },
 "nbformat": 4,
 "nbformat_minor": 5
}
