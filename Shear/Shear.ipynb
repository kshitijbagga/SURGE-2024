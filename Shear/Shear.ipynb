{
 "cells": [
  {
   "cell_type": "code",
   "execution_count": null,
   "id": "7651e368",
   "metadata": {},
   "outputs": [],
   "source": [
    "# Importing the required libraries\n",
    "\n",
    "import numpy as np\n",
    "from sklearn.model_selection import train_test_split\n",
    "from sklearn.metrics import mean_squared_error\n",
    "from sklearn.metrics import mean_absolute_error\n",
    "import joblib\n",
    "import os"
   ]
  },
  {
   "cell_type": "code",
   "execution_count": null,
   "id": "d4a04560",
   "metadata": {},
   "outputs": [],
   "source": [
    "# Creating our X_train array \n",
    "import csv\n",
    "\n",
    "Euler_KAM = []\n",
    "for file_index in range(1, 20):\n",
    "    with open(f\"IPF\\IPF_Final_{file_index}.csv\", \"r\") as file:\n",
    "        contents = csv.DictReader(file, delimiter=\",\")\n",
    "        Euler_at_fixed_strain = []\n",
    "        for row in contents:\n",
    "            Euler_at_fixed_strain.append(float(row[\"Phi2\"])) \n",
    "        Euler_KAM.append(Euler_at_fixed_strain)\n",
    "        \n",
    "X_train = []\n",
    "for j in range(len(Euler_KAM[1])):\n",
    "    y_values = np.array([i[j] for i in Euler_KAM]) \n",
    "    X_train.append(y_values)\n",
    "\n",
    "# Reshape for RNN input\n",
    "# As we always have a 3-D array as an input to a LSTM network\n",
    "# The first dimension represents batch size\n",
    "# The second dimension represents time steps\n",
    "# The third dimension represents the number of units in one input sequence\n"
   ]
  },
  {
   "cell_type": "code",
   "execution_count": null,
   "id": "e3e172d8",
   "metadata": {},
   "outputs": [],
   "source": [
    "np.shape(X_train)"
   ]
  },
  {
   "cell_type": "code",
   "execution_count": null,
   "id": "bee3ac1e",
   "metadata": {},
   "outputs": [],
   "source": [
    "# Creating our Y _train array\n",
    "import pandas as pd\n",
    "Y_train = []\n",
    "df = pd.read_csv(\"IPF\\IPF_Final_20.csv\")\n",
    "for i in range(len(df['Phi2'])):\n",
    "    Y_train.append(df['Phi2'].iloc[i])"
   ]
  },
  {
   "cell_type": "code",
   "execution_count": null,
   "id": "bd5c973f",
   "metadata": {},
   "outputs": [],
   "source": [
    "np.shape(Y_train)"
   ]
  },
  {
   "cell_type": "code",
   "execution_count": null,
   "id": "7de21fdf",
   "metadata": {},
   "outputs": [],
   "source": [
    "# Splitting our data into training-testing batches\n",
    "# and adjusting their shapes according to the model requirements\n",
    "x_train, x_test, y_train, y_test = train_test_split(X_train, Y_train, test_size=0.3, random_state=42)"
   ]
  },
  {
   "cell_type": "code",
   "execution_count": null,
   "id": "fdbb2347",
   "metadata": {},
   "outputs": [],
   "source": [
    "x_train = np.array(x_train)\n",
    "x_train = x_train.reshape((x_train.shape[0], x_train.shape[1], 1))\n",
    "y_train = np.array(y_train)\n",
    "y_train = y_train.reshape((y_train.shape[0], 1,1))"
   ]
  },
  {
   "cell_type": "code",
   "execution_count": null,
   "id": "7c1acede",
   "metadata": {},
   "outputs": [],
   "source": [
    "x_test = np.array(x_test)\n",
    "x_test = x_test.reshape((x_test.shape[0], x_test.shape[1], 1))\n",
    "y_test = np.array(y_test)\n",
    "y_test = y_test.reshape((y_test.shape[0], 1,1))"
   ]
  },
  {
   "cell_type": "code",
   "execution_count": null,
   "id": "825faa53",
   "metadata": {},
   "outputs": [],
   "source": [
    "print(np.shape(x_train))\n",
    "print(np.shape(y_train))\n",
    "print(np.shape(x_test))\n",
    "print(np.shape(y_test))"
   ]
  },
  {
   "cell_type": "code",
   "execution_count": null,
   "id": "c5e920ed",
   "metadata": {},
   "outputs": [],
   "source": [
    "# Initialization and training of our model\n",
    "\n",
    "import tensorflow as tf\n",
    "from tensorflow.keras.models import Sequential\n",
    "from tensorflow.keras.layers import LSTM, Dense\n",
    "from sklearn.model_selection import train_test_split\n",
    "from sklearn.metrics import mean_squared_error\n",
    "\n",
    "# Initializing the model here\n",
    "\n",
    "model = Sequential()\n",
    "model.add(LSTM(32, input_shape=(19, 1), return_sequences=True))\n",
    "model.add(LSTM(32, return_sequences=False))\n",
    "model.add(Dense(1))\n",
    "\n",
    "# Compile the model\n",
    "model.compile(optimizer='adam', loss='mean_squared_error')\n",
    "\n",
    "# Print model summary\n",
    "model.summary()\n",
    "\n",
    "# Train the model\n",
    "history = model.fit(x_train, y_train, epochs=100, validation_data=(x_test, y_test))\n",
    "\n",
    "# Save the model\n",
    "model.save(\"Shear_Phi2_lstm.h5\")"
   ]
  },
  {
   "cell_type": "code",
   "execution_count": null,
   "id": "cee812c0",
   "metadata": {},
   "outputs": [],
   "source": [
    "# Defining a function that would predict the data for a given Euler Angle (\"Euler\") and a given file index (\"to_predict\")\n",
    "import pandas as pd\n",
    "from keras.models import load_model\n",
    "import csv\n",
    "\n",
    "def predictions(to_predict, Euler):\n",
    "    Euler_KAM = []\n",
    "    for file_index in range(1, 20):\n",
    "        with open(fr\"IPF\\IPF_Final_{file_index}.csv\", \"r\") as file:\n",
    "            contents = csv.DictReader(file, delimiter=\",\")\n",
    "            Euler_at_fixed_strain = []\n",
    "            for row in contents:\n",
    "                Euler_at_fixed_strain.append(float(row[f\"Phi{Euler}\"])) \n",
    "            Euler_KAM.append(Euler_at_fixed_strain)\n",
    "\n",
    "    X_train = []\n",
    "    for j in range(len(Euler_KAM[1])):\n",
    "        y_values = np.array([i[j] for i in Euler_KAM]) \n",
    "        X_train.append(y_values)\n",
    "\n",
    "    X_copy = X_train.copy()\n",
    "    outer_len = len(X_copy)\n",
    "    for file_index in range(20, to_predict):\n",
    "        df = pd.read_csv(fr\"IPF\\IPF_{file_index}_pred.csv\")\n",
    "        twenty = df[f\"Phi{Euler}\"] # Euler can take values 1,_,2\n",
    "\n",
    "        for i in range(outer_len):\n",
    "            X_copy[i] = np.delete(X_copy[i], 0)\n",
    "            X_copy[i] = np.append(X_copy[i], twenty[i])\n",
    "\n",
    "    path = f\"Shear_Phi{Euler}_lstm.h5\"\n",
    "    model = load_model(path)\n",
    "        \n",
    "    predicted_values=[]\n",
    "\n",
    "    for i in range(outer_len):\n",
    "        pred = model.predict(X_copy[i].reshape(1,19,1))\n",
    "        predicted_values.append(pred)\n",
    "        print(i)\n",
    "\n",
    "        \n",
    "    predicted_values = np.squeeze(predicted_values, axis=2)\n",
    "    return predicted_values\n"
   ]
  },
  {
   "cell_type": "code",
   "execution_count": null,
   "id": "2996bef8",
   "metadata": {},
   "outputs": [],
   "source": [
    "# Taking user input for the file_index for which the predictions are to be made\n",
    "to_predict = int(input(\"Enter the strain value for which the predictions are to be made: \"))"
   ]
  },
  {
   "cell_type": "code",
   "execution_count": null,
   "id": "80ebf8d5",
   "metadata": {},
   "outputs": [],
   "source": [
    "# Making the predictions for the required\n",
    "Phi1 = predictions(to_predict, 1)"
   ]
  },
  {
   "cell_type": "code",
   "execution_count": null,
   "id": "e611e30f",
   "metadata": {},
   "outputs": [],
   "source": [
    "df = pd.DataFrame(Phi1)\n",
    "df.to_csv(fr\"IPF\\IPF_{to_predict}_pred.csv\")"
   ]
  },
  {
   "cell_type": "code",
   "execution_count": null,
   "id": "efc24e17",
   "metadata": {},
   "outputs": [],
   "source": [
    "Phi = predictions(to_predict, \"\")"
   ]
  },
  {
   "cell_type": "code",
   "execution_count": null,
   "id": "190af97b",
   "metadata": {},
   "outputs": [],
   "source": [
    "df = pd.DataFrame(Phi)\n",
    "df.to_csv(fr\"IPF\\Phi_{to_predict}_pred.csv\")"
   ]
  },
  {
   "cell_type": "code",
   "execution_count": null,
   "id": "049f5404",
   "metadata": {},
   "outputs": [],
   "source": [
    "Phi2 = predictions(to_predict, 2)"
   ]
  },
  {
   "cell_type": "code",
   "execution_count": null,
   "id": "d8715df8",
   "metadata": {},
   "outputs": [],
   "source": [
    "df = pd.DataFrame(Phi2)\n",
    "df.to_csv(fr\"IPF\\Phi2_{to_predict}_pred.csv\")"
   ]
  }
 ],
 "metadata": {
  "kernelspec": {
   "display_name": "Python 3 (ipykernel)",
   "language": "python",
   "name": "python3"
  },
  "language_info": {
   "codemirror_mode": {
    "name": "ipython",
    "version": 3
   },
   "file_extension": ".py",
   "mimetype": "text/x-python",
   "name": "python",
   "nbconvert_exporter": "python",
   "pygments_lexer": "ipython3",
   "version": "3.11.3"
  }
 },
 "nbformat": 4,
 "nbformat_minor": 5
}
